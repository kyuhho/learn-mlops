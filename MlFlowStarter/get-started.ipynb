{
 "cells": [
  {
   "cell_type": "markdown",
   "metadata": {},
   "source": [
    "## MLFlow Tracking Server"
   ]
  },
  {
   "cell_type": "code",
   "execution_count": 2,
   "metadata": {},
   "outputs": [],
   "source": [
    "import mlflow"
   ]
  },
  {
   "cell_type": "code",
   "execution_count": 3,
   "metadata": {},
   "outputs": [],
   "source": [
    "# tracking server URI 설정 (Experiment, Run 데이터 저장)\n",
    "mlflow.set_tracking_uri(\"http://127.0.0.1:5000\")"
   ]
  },
  {
   "cell_type": "code",
   "execution_count": 4,
   "metadata": {},
   "outputs": [
    {
     "name": "stderr",
     "output_type": "stream",
     "text": [
      "2025/01/04 20:46:53 INFO mlflow.tracking.fluent: Experiment with name 'Check localhost connection2' does not exist. Creating a new experiment.\n"
     ]
    },
    {
     "name": "stdout",
     "output_type": "stream",
     "text": [
      "🏃 View run indecisive-bug-91 at: http://127.0.0.1:5000/#/experiments/131316294849637486/runs/0aad3bf18bf043cb92ba3e2be3563320\n",
      "🧪 View experiment at: http://127.0.0.1:5000/#/experiments/131316294849637486\n"
     ]
    }
   ],
   "source": [
    "mlflow.set_experiment(\"Check localhost connection2\")\n",
    "\n",
    "with mlflow.start_run():\n",
    "    # log 남김\n",
    "    mlflow.log_metric(\"test1\", 1)\n",
    "    mlflow.log_metric(\"Krish1\", 2)"
   ]
  },
  {
   "cell_type": "code",
   "execution_count": 5,
   "metadata": {},
   "outputs": [
    {
     "name": "stdout",
     "output_type": "stream",
     "text": [
      "🏃 View run upbeat-penguin-286 at: http://127.0.0.1:5000/#/experiments/131316294849637486/runs/7c58b164d63f48d4b1671bb61535190a\n",
      "🧪 View experiment at: http://127.0.0.1:5000/#/experiments/131316294849637486\n"
     ]
    }
   ],
   "source": [
    "with mlflow.start_run():\n",
    "    # log 남김\n",
    "    mlflow.log_metric(\"test2\", 1)\n",
    "    mlflow.log_metric(\"Krish2\", 2)"
   ]
  }
 ],
 "metadata": {
  "kernelspec": {
   "display_name": "Python 3",
   "language": "python",
   "name": "python3"
  },
  "language_info": {
   "codemirror_mode": {
    "name": "ipython",
    "version": 3
   },
   "file_extension": ".py",
   "mimetype": "text/x-python",
   "name": "python",
   "nbconvert_exporter": "python",
   "pygments_lexer": "ipython3",
   "version": "3.10.0"
  }
 },
 "nbformat": 4,
 "nbformat_minor": 2
}
